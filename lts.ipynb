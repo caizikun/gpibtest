{
 "cells": [
  {
   "cell_type": "code",
   "execution_count": 559,
   "metadata": {},
   "outputs": [
    {
     "name": "stdout",
     "output_type": "stream",
     "text": [
      "(b'LTS150', b'SW Version 3.0.10', b'APT Stepper Motor Controller')\n"
     ]
    }
   ],
   "source": [
    "import thorlabs_apt as apt\n",
    "\n",
    "stage = apt.Motor(45288094)\n",
    "\n",
    "print(apt.hardware_info(45288094))"
   ]
  },
  {
   "cell_type": "code",
   "execution_count": 560,
   "metadata": {},
   "outputs": [
    {
     "ename": "Exception",
     "evalue": "Setting relative position failed: Internal error.",
     "output_type": "error",
     "traceback": [
      "\u001b[1;31m---------------------------------------------------------------------------\u001b[0m",
      "\u001b[1;31mException\u001b[0m                                 Traceback (most recent call last)",
      "Cell \u001b[1;32mIn [560], line 2\u001b[0m\n\u001b[0;32m      1\u001b[0m \u001b[39mimport\u001b[39;00m \u001b[39mtime\u001b[39;00m\n\u001b[1;32m----> 2\u001b[0m stage\u001b[39m.\u001b[39;49mmove_by(\u001b[39m10\u001b[39;49m)\n\u001b[0;32m      3\u001b[0m time\u001b[39m.\u001b[39msleep(\u001b[39m2\u001b[39m)\n\u001b[0;32m      4\u001b[0m stage\u001b[39m.\u001b[39mmove_by(\u001b[39m-\u001b[39m\u001b[39m10\u001b[39m)\n",
      "File \u001b[1;32mc:\\Program Files\\Python38\\lib\\site-packages\\thorlabs_apt\\core.py:796\u001b[0m, in \u001b[0;36mMotor.move_by\u001b[1;34m(self, value, blocking)\u001b[0m\n\u001b[0;32m    793\u001b[0m err_code \u001b[39m=\u001b[39m _lib\u001b[39m.\u001b[39mMOT_MoveRelativeEx(\u001b[39mself\u001b[39m\u001b[39m.\u001b[39m_serial_number, value,\n\u001b[0;32m    794\u001b[0m         blocking)\n\u001b[0;32m    795\u001b[0m \u001b[39mif\u001b[39;00m (err_code \u001b[39m!=\u001b[39m \u001b[39m0\u001b[39m):\n\u001b[1;32m--> 796\u001b[0m     \u001b[39mraise\u001b[39;00m \u001b[39mException\u001b[39;00m(\u001b[39m\"\u001b[39m\u001b[39mSetting relative position failed: \u001b[39m\u001b[39m%s\u001b[39;00m\u001b[39m\"\u001b[39m \u001b[39m%\u001b[39m\n\u001b[0;32m    797\u001b[0m             _get_error_text(err_code))\n",
      "\u001b[1;31mException\u001b[0m: Setting relative position failed: Internal error."
     ]
    }
   ],
   "source": [
    "import time\n",
    "stage.move_by(10)\n",
    "time.sleep(2)\n",
    "stage.move_by(-10)"
   ]
  },
  {
   "cell_type": "code",
   "execution_count": 552,
   "metadata": {},
   "outputs": [
    {
     "ename": "Exception",
     "evalue": "Setting relative position failed: Internal error.",
     "output_type": "error",
     "traceback": [
      "\u001b[1;31m---------------------------------------------------------------------------\u001b[0m",
      "\u001b[1;31mException\u001b[0m                                 Traceback (most recent call last)",
      "Cell \u001b[1;32mIn [552], line 1\u001b[0m\n\u001b[1;32m----> 1\u001b[0m stage\u001b[39m.\u001b[39;49mmove_by(\u001b[39m0.25\u001b[39;49m)\n",
      "File \u001b[1;32mc:\\Program Files\\Python38\\lib\\site-packages\\thorlabs_apt\\core.py:796\u001b[0m, in \u001b[0;36mMotor.move_by\u001b[1;34m(self, value, blocking)\u001b[0m\n\u001b[0;32m    793\u001b[0m err_code \u001b[39m=\u001b[39m _lib\u001b[39m.\u001b[39mMOT_MoveRelativeEx(\u001b[39mself\u001b[39m\u001b[39m.\u001b[39m_serial_number, value,\n\u001b[0;32m    794\u001b[0m         blocking)\n\u001b[0;32m    795\u001b[0m \u001b[39mif\u001b[39;00m (err_code \u001b[39m!=\u001b[39m \u001b[39m0\u001b[39m):\n\u001b[1;32m--> 796\u001b[0m     \u001b[39mraise\u001b[39;00m \u001b[39mException\u001b[39;00m(\u001b[39m\"\u001b[39m\u001b[39mSetting relative position failed: \u001b[39m\u001b[39m%s\u001b[39;00m\u001b[39m\"\u001b[39m \u001b[39m%\u001b[39m\n\u001b[0;32m    797\u001b[0m             _get_error_text(err_code))\n",
      "\u001b[1;31mException\u001b[0m: Setting relative position failed: Internal error."
     ]
    }
   ],
   "source": [
    "stage.move_by(0.25)"
   ]
  },
  {
   "cell_type": "code",
   "execution_count": 553,
   "metadata": {},
   "outputs": [
    {
     "ename": "Exception",
     "evalue": "Setting relative position failed: Internal error.",
     "output_type": "error",
     "traceback": [
      "\u001b[1;31m---------------------------------------------------------------------------\u001b[0m",
      "\u001b[1;31mException\u001b[0m                                 Traceback (most recent call last)",
      "Cell \u001b[1;32mIn [553], line 1\u001b[0m\n\u001b[1;32m----> 1\u001b[0m stage\u001b[39m.\u001b[39;49mmove_by(\u001b[39m-\u001b[39;49m\u001b[39m0.25\u001b[39;49m)\n",
      "File \u001b[1;32mc:\\Program Files\\Python38\\lib\\site-packages\\thorlabs_apt\\core.py:796\u001b[0m, in \u001b[0;36mMotor.move_by\u001b[1;34m(self, value, blocking)\u001b[0m\n\u001b[0;32m    793\u001b[0m err_code \u001b[39m=\u001b[39m _lib\u001b[39m.\u001b[39mMOT_MoveRelativeEx(\u001b[39mself\u001b[39m\u001b[39m.\u001b[39m_serial_number, value,\n\u001b[0;32m    794\u001b[0m         blocking)\n\u001b[0;32m    795\u001b[0m \u001b[39mif\u001b[39;00m (err_code \u001b[39m!=\u001b[39m \u001b[39m0\u001b[39m):\n\u001b[1;32m--> 796\u001b[0m     \u001b[39mraise\u001b[39;00m \u001b[39mException\u001b[39;00m(\u001b[39m\"\u001b[39m\u001b[39mSetting relative position failed: \u001b[39m\u001b[39m%s\u001b[39;00m\u001b[39m\"\u001b[39m \u001b[39m%\u001b[39m\n\u001b[0;32m    797\u001b[0m             _get_error_text(err_code))\n",
      "\u001b[1;31mException\u001b[0m: Setting relative position failed: Internal error."
     ]
    }
   ],
   "source": [
    "stage.move_by(-0.25)"
   ]
  },
  {
   "cell_type": "code",
   "execution_count": 556,
   "metadata": {},
   "outputs": [
    {
     "ename": "Exception",
     "evalue": "Setting relative position failed: Internal error.",
     "output_type": "error",
     "traceback": [
      "\u001b[1;31m---------------------------------------------------------------------------\u001b[0m",
      "\u001b[1;31mException\u001b[0m                                 Traceback (most recent call last)",
      "Cell \u001b[1;32mIn [556], line 1\u001b[0m\n\u001b[1;32m----> 1\u001b[0m stage\u001b[39m.\u001b[39;49mmove_by(\u001b[39m10\u001b[39;49m)\n",
      "File \u001b[1;32mc:\\Program Files\\Python38\\lib\\site-packages\\thorlabs_apt\\core.py:796\u001b[0m, in \u001b[0;36mMotor.move_by\u001b[1;34m(self, value, blocking)\u001b[0m\n\u001b[0;32m    793\u001b[0m err_code \u001b[39m=\u001b[39m _lib\u001b[39m.\u001b[39mMOT_MoveRelativeEx(\u001b[39mself\u001b[39m\u001b[39m.\u001b[39m_serial_number, value,\n\u001b[0;32m    794\u001b[0m         blocking)\n\u001b[0;32m    795\u001b[0m \u001b[39mif\u001b[39;00m (err_code \u001b[39m!=\u001b[39m \u001b[39m0\u001b[39m):\n\u001b[1;32m--> 796\u001b[0m     \u001b[39mraise\u001b[39;00m \u001b[39mException\u001b[39;00m(\u001b[39m\"\u001b[39m\u001b[39mSetting relative position failed: \u001b[39m\u001b[39m%s\u001b[39;00m\u001b[39m\"\u001b[39m \u001b[39m%\u001b[39m\n\u001b[0;32m    797\u001b[0m             _get_error_text(err_code))\n",
      "\u001b[1;31mException\u001b[0m: Setting relative position failed: Internal error."
     ]
    }
   ],
   "source": [
    "stage.move_by(10)"
   ]
  },
  {
   "cell_type": "code",
   "execution_count": 551,
   "metadata": {},
   "outputs": [
    {
     "ename": "Exception",
     "evalue": "Setting relative position failed: Internal error.",
     "output_type": "error",
     "traceback": [
      "\u001b[1;31m---------------------------------------------------------------------------\u001b[0m",
      "\u001b[1;31mException\u001b[0m                                 Traceback (most recent call last)",
      "Cell \u001b[1;32mIn [551], line 1\u001b[0m\n\u001b[1;32m----> 1\u001b[0m stage\u001b[39m.\u001b[39;49mmove_by(\u001b[39m-\u001b[39;49m\u001b[39m10\u001b[39;49m)\n",
      "File \u001b[1;32mc:\\Program Files\\Python38\\lib\\site-packages\\thorlabs_apt\\core.py:796\u001b[0m, in \u001b[0;36mMotor.move_by\u001b[1;34m(self, value, blocking)\u001b[0m\n\u001b[0;32m    793\u001b[0m err_code \u001b[39m=\u001b[39m _lib\u001b[39m.\u001b[39mMOT_MoveRelativeEx(\u001b[39mself\u001b[39m\u001b[39m.\u001b[39m_serial_number, value,\n\u001b[0;32m    794\u001b[0m         blocking)\n\u001b[0;32m    795\u001b[0m \u001b[39mif\u001b[39;00m (err_code \u001b[39m!=\u001b[39m \u001b[39m0\u001b[39m):\n\u001b[1;32m--> 796\u001b[0m     \u001b[39mraise\u001b[39;00m \u001b[39mException\u001b[39;00m(\u001b[39m\"\u001b[39m\u001b[39mSetting relative position failed: \u001b[39m\u001b[39m%s\u001b[39;00m\u001b[39m\"\u001b[39m \u001b[39m%\u001b[39m\n\u001b[0;32m    797\u001b[0m             _get_error_text(err_code))\n",
      "\u001b[1;31mException\u001b[0m: Setting relative position failed: Internal error."
     ]
    }
   ],
   "source": [
    "stage.move_by(-10)"
   ]
  },
  {
   "cell_type": "code",
   "execution_count": 557,
   "metadata": {},
   "outputs": [
    {
     "ename": "Exception",
     "evalue": "Setting relative position failed: Internal error.",
     "output_type": "error",
     "traceback": [
      "\u001b[1;31m---------------------------------------------------------------------------\u001b[0m",
      "\u001b[1;31mException\u001b[0m                                 Traceback (most recent call last)",
      "Cell \u001b[1;32mIn [557], line 1\u001b[0m\n\u001b[1;32m----> 1\u001b[0m stage\u001b[39m.\u001b[39;49mmove_by(\u001b[39m1\u001b[39;49m)\n",
      "File \u001b[1;32mc:\\Program Files\\Python38\\lib\\site-packages\\thorlabs_apt\\core.py:796\u001b[0m, in \u001b[0;36mMotor.move_by\u001b[1;34m(self, value, blocking)\u001b[0m\n\u001b[0;32m    793\u001b[0m err_code \u001b[39m=\u001b[39m _lib\u001b[39m.\u001b[39mMOT_MoveRelativeEx(\u001b[39mself\u001b[39m\u001b[39m.\u001b[39m_serial_number, value,\n\u001b[0;32m    794\u001b[0m         blocking)\n\u001b[0;32m    795\u001b[0m \u001b[39mif\u001b[39;00m (err_code \u001b[39m!=\u001b[39m \u001b[39m0\u001b[39m):\n\u001b[1;32m--> 796\u001b[0m     \u001b[39mraise\u001b[39;00m \u001b[39mException\u001b[39;00m(\u001b[39m\"\u001b[39m\u001b[39mSetting relative position failed: \u001b[39m\u001b[39m%s\u001b[39;00m\u001b[39m\"\u001b[39m \u001b[39m%\u001b[39m\n\u001b[0;32m    797\u001b[0m             _get_error_text(err_code))\n",
      "\u001b[1;31mException\u001b[0m: Setting relative position failed: Internal error."
     ]
    }
   ],
   "source": [
    "stage.move_by(1)"
   ]
  },
  {
   "cell_type": "code",
   "execution_count": 543,
   "metadata": {},
   "outputs": [
    {
     "ename": "Exception",
     "evalue": "Setting relative position failed: Internal error.",
     "output_type": "error",
     "traceback": [
      "\u001b[1;31m---------------------------------------------------------------------------\u001b[0m",
      "\u001b[1;31mException\u001b[0m                                 Traceback (most recent call last)",
      "Cell \u001b[1;32mIn [543], line 1\u001b[0m\n\u001b[1;32m----> 1\u001b[0m stage\u001b[39m.\u001b[39;49mmove_by(\u001b[39m-\u001b[39;49m\u001b[39m1\u001b[39;49m)\n",
      "File \u001b[1;32mc:\\Program Files\\Python38\\lib\\site-packages\\thorlabs_apt\\core.py:796\u001b[0m, in \u001b[0;36mMotor.move_by\u001b[1;34m(self, value, blocking)\u001b[0m\n\u001b[0;32m    793\u001b[0m err_code \u001b[39m=\u001b[39m _lib\u001b[39m.\u001b[39mMOT_MoveRelativeEx(\u001b[39mself\u001b[39m\u001b[39m.\u001b[39m_serial_number, value,\n\u001b[0;32m    794\u001b[0m         blocking)\n\u001b[0;32m    795\u001b[0m \u001b[39mif\u001b[39;00m (err_code \u001b[39m!=\u001b[39m \u001b[39m0\u001b[39m):\n\u001b[1;32m--> 796\u001b[0m     \u001b[39mraise\u001b[39;00m \u001b[39mException\u001b[39;00m(\u001b[39m\"\u001b[39m\u001b[39mSetting relative position failed: \u001b[39m\u001b[39m%s\u001b[39;00m\u001b[39m\"\u001b[39m \u001b[39m%\u001b[39m\n\u001b[0;32m    797\u001b[0m             _get_error_text(err_code))\n",
      "\u001b[1;31mException\u001b[0m: Setting relative position failed: Internal error."
     ]
    }
   ],
   "source": [
    "stage.move_by(-1)"
   ]
  },
  {
   "cell_type": "code",
   "execution_count": 536,
   "metadata": {},
   "outputs": [],
   "source": [
    "stage.move_by(0.1)"
   ]
  },
  {
   "cell_type": "code",
   "execution_count": 514,
   "metadata": {},
   "outputs": [],
   "source": [
    "stage.move_by(-0.1)"
   ]
  },
  {
   "cell_type": "code",
   "execution_count": 392,
   "metadata": {},
   "outputs": [],
   "source": [
    "stage.move_by(0.01)"
   ]
  },
  {
   "cell_type": "code",
   "execution_count": 519,
   "metadata": {},
   "outputs": [],
   "source": [
    "stage.move_by(-0.01)"
   ]
  },
  {
   "cell_type": "code",
   "execution_count": null,
   "metadata": {},
   "outputs": [],
   "source": [
    "stage.move_by(30)"
   ]
  },
  {
   "cell_type": "code",
   "execution_count": 32,
   "metadata": {},
   "outputs": [],
   "source": [
    "stage.move_by(-30)"
   ]
  }
 ],
 "metadata": {
  "kernelspec": {
   "display_name": "Python 3",
   "language": "python",
   "name": "python3"
  },
  "language_info": {
   "codemirror_mode": {
    "name": "ipython",
    "version": 3
   },
   "file_extension": ".py",
   "mimetype": "text/x-python",
   "name": "python",
   "nbconvert_exporter": "python",
   "pygments_lexer": "ipython3",
   "version": "3.8.10"
  },
  "orig_nbformat": 4,
  "vscode": {
   "interpreter": {
    "hash": "570feb405e2e27c949193ac68f46852414290d515b0ba6e5d90d076ed2284471"
   }
  }
 },
 "nbformat": 4,
 "nbformat_minor": 2
}
