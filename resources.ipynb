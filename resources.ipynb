{
 "cells": [
  {
   "cell_type": "code",
   "execution_count": 2,
   "metadata": {},
   "outputs": [
    {
     "data": {
      "text/plain": [
       "('GPIB0::20::INSTR',\n",
       " 'GPIB0::5::INSTR',\n",
       " 'TCPIP0::129.254.43.167::inst0::INSTR',\n",
       " 'USB0::0x0957::0x0588::CN50483638::0::INSTR',\n",
       " 'TCPIP0::129.254.43.106::inst0::INSTR',\n",
       " 'TCPIP0::129.254.43.113::inst0::INSTR',\n",
       " 'TCPIP0::semilab5.etri.re.kr::inst0::INSTR',\n",
       " 'TCPIP0::LCRY0827N58314::inst0::INSTR',\n",
       " 'ASRL3::INSTR',\n",
       " 'ASRL4::INSTR')"
      ]
     },
     "execution_count": 2,
     "metadata": {},
     "output_type": "execute_result"
    }
   ],
   "source": [
    "import pyvisa as visa\n",
    "\n",
    "rm = visa.ResourceManager()\n",
    "rm.list_resources()"
   ]
  }
 ],
 "metadata": {
  "kernelspec": {
   "display_name": "Python 3",
   "language": "python",
   "name": "python3"
  },
  "language_info": {
   "codemirror_mode": {
    "name": "ipython",
    "version": 3
   },
   "file_extension": ".py",
   "mimetype": "text/x-python",
   "name": "python",
   "nbconvert_exporter": "python",
   "pygments_lexer": "ipython3",
   "version": "3.8.10"
  },
  "orig_nbformat": 4,
  "vscode": {
   "interpreter": {
    "hash": "570feb405e2e27c949193ac68f46852414290d515b0ba6e5d90d076ed2284471"
   }
  }
 },
 "nbformat": 4,
 "nbformat_minor": 2
}
